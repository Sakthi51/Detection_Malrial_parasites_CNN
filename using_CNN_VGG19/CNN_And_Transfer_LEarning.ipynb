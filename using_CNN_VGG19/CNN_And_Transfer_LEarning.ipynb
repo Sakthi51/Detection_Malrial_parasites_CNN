{
  "cells": [
    {
      "cell_type": "markdown",
      "metadata": {
        "id": "D05Y35sEfZA3"
      },
      "source": [
        "## Creating CNN Using Scratch And Transfer Learning"
      ]
    },
    {
      "cell_type": "code",
      "execution_count": null,
      "metadata": {
        "id": "FM5jd4xcfZA8"
      },
      "outputs": [],
      "source": [
        "# import the libraries as shown below\n",
        "\n",
        "from tensorflow.keras.layers import Input, Lambda, Dense, Flatten,Conv2D\n",
        "from tensorflow.keras.models import Model\n",
        "from tensorflow.keras.applications.vgg19 import VGG19\n",
        "from tensorflow.keras.applications.resnet50 import preprocess_input\n",
        "from tensorflow.keras.preprocessing import image\n",
        "from tensorflow.keras.preprocessing.image import ImageDataGenerator,load_img\n",
        "from tensorflow.keras.models import Sequential\n",
        "import numpy as np\n",
        "from glob import glob\n",
        "import matplotlib.pyplot as plt"
      ]
    },
    {
      "cell_type": "code",
      "execution_count": null,
      "metadata": {
        "id": "hX25Uw_JfZA9"
      },
      "outputs": [],
      "source": [
        "# re-size all the images to this\n",
        "IMAGE_SIZE = [224, 224]\n",
        "\n",
        "train_path = 'cell_images/Train'\n",
        "valid_path = 'cell_images/Test'\n"
      ]
    },
    {
      "cell_type": "code",
      "execution_count": null,
      "metadata": {
        "colab": {
          "base_uri": "https://localhost:8080/"
        },
        "id": "c1d8whMTfZA-",
        "outputId": "e9e4a1a2-f572-49aa-cdf0-cd0816f6d89d"
      },
      "outputs": [
        {
          "output_type": "stream",
          "name": "stdout",
          "text": [
            "Downloading data from https://storage.googleapis.com/tensorflow/keras-applications/vgg19/vgg19_weights_tf_dim_ordering_tf_kernels_notop.h5\n",
            "80134624/80134624 [==============================] - 1s 0us/step\n"
          ]
        }
      ],
      "source": [
        "# Import the Vgg 16 library as shown below and add preprocessing layer to the front of VGG\n",
        "# Here we will be using imagenet weights\n",
        "\n",
        "mobilnet = VGG19(input_shape=IMAGE_SIZE + [3], weights='imagenet', include_top=False)\n",
        "\n",
        "\n"
      ]
    },
    {
      "cell_type": "code",
      "execution_count": null,
      "metadata": {
        "id": "RlBm8mL7fZA-"
      },
      "outputs": [],
      "source": [
        "# don't train existing weights\n",
        "for layer in mobilnet.layers:\n",
        "    layer.trainable = False"
      ]
    },
    {
      "cell_type": "code",
      "execution_count": null,
      "metadata": {
        "id": "IRPUosvgfZA_"
      },
      "outputs": [],
      "source": [
        "  # useful for getting number of output classes\n",
        "folders = glob('Dataset/Train/*')"
      ]
    },
    {
      "cell_type": "code",
      "execution_count": null,
      "metadata": {
        "colab": {
          "base_uri": "https://localhost:8080/"
        },
        "id": "cxAXtJk_fZA_",
        "outputId": "c45e183c-9a82-42c9-e1b9-45f6ebf9207c"
      },
      "outputs": [
        {
          "output_type": "execute_result",
          "data": {
            "text/plain": [
              "[]"
            ]
          },
          "metadata": {},
          "execution_count": 6
        }
      ],
      "source": [
        "folders"
      ]
    },
    {
      "cell_type": "code",
      "execution_count": null,
      "metadata": {
        "id": "LdMK_c7ufZBA"
      },
      "outputs": [],
      "source": [
        "# our layers - you can add more if you want\n",
        "x = Flatten()(mobilnet.output)"
      ]
    },
    {
      "cell_type": "code",
      "execution_count": null,
      "metadata": {
        "id": "fPvjqPcnfZBA"
      },
      "outputs": [],
      "source": [
        "prediction = Dense(len(folders), activation='softmax')(x)\n",
        "\n",
        "# create a model object\n",
        "model = Model(inputs=mobilnet.input, outputs=prediction)"
      ]
    },
    {
      "cell_type": "code",
      "execution_count": null,
      "metadata": {
        "colab": {
          "base_uri": "https://localhost:8080/"
        },
        "id": "g_5Wwr7FfZBC",
        "outputId": "8a6c35d6-91da-4c31-fb0c-8727da5dc537"
      },
      "outputs": [
        {
          "output_type": "stream",
          "name": "stdout",
          "text": [
            "Model: \"model\"\n",
            "_________________________________________________________________\n",
            " Layer (type)                Output Shape              Param #   \n",
            "=================================================================\n",
            " input_1 (InputLayer)        [(None, 224, 224, 3)]     0         \n",
            "                                                                 \n",
            " block1_conv1 (Conv2D)       (None, 224, 224, 64)      1792      \n",
            "                                                                 \n",
            " block1_conv2 (Conv2D)       (None, 224, 224, 64)      36928     \n",
            "                                                                 \n",
            " block1_pool (MaxPooling2D)  (None, 112, 112, 64)      0         \n",
            "                                                                 \n",
            " block2_conv1 (Conv2D)       (None, 112, 112, 128)     73856     \n",
            "                                                                 \n",
            " block2_conv2 (Conv2D)       (None, 112, 112, 128)     147584    \n",
            "                                                                 \n",
            " block2_pool (MaxPooling2D)  (None, 56, 56, 128)       0         \n",
            "                                                                 \n",
            " block3_conv1 (Conv2D)       (None, 56, 56, 256)       295168    \n",
            "                                                                 \n",
            " block3_conv2 (Conv2D)       (None, 56, 56, 256)       590080    \n",
            "                                                                 \n",
            " block3_conv3 (Conv2D)       (None, 56, 56, 256)       590080    \n",
            "                                                                 \n",
            " block3_conv4 (Conv2D)       (None, 56, 56, 256)       590080    \n",
            "                                                                 \n",
            " block3_pool (MaxPooling2D)  (None, 28, 28, 256)       0         \n",
            "                                                                 \n",
            " block4_conv1 (Conv2D)       (None, 28, 28, 512)       1180160   \n",
            "                                                                 \n",
            " block4_conv2 (Conv2D)       (None, 28, 28, 512)       2359808   \n",
            "                                                                 \n",
            " block4_conv3 (Conv2D)       (None, 28, 28, 512)       2359808   \n",
            "                                                                 \n",
            " block4_conv4 (Conv2D)       (None, 28, 28, 512)       2359808   \n",
            "                                                                 \n",
            " block4_pool (MaxPooling2D)  (None, 14, 14, 512)       0         \n",
            "                                                                 \n",
            " block5_conv1 (Conv2D)       (None, 14, 14, 512)       2359808   \n",
            "                                                                 \n",
            " block5_conv2 (Conv2D)       (None, 14, 14, 512)       2359808   \n",
            "                                                                 \n",
            " block5_conv3 (Conv2D)       (None, 14, 14, 512)       2359808   \n",
            "                                                                 \n",
            " block5_conv4 (Conv2D)       (None, 14, 14, 512)       2359808   \n",
            "                                                                 \n",
            " block5_pool (MaxPooling2D)  (None, 7, 7, 512)         0         \n",
            "                                                                 \n",
            " flatten (Flatten)           (None, 25088)             0         \n",
            "                                                                 \n",
            " dense (Dense)               (None, 0)                 0         \n",
            "                                                                 \n",
            "=================================================================\n",
            "Total params: 20,024,384\n",
            "Trainable params: 0\n",
            "Non-trainable params: 20,024,384\n",
            "_________________________________________________________________\n"
          ]
        }
      ],
      "source": [
        "\n",
        "# view the structure of the model\n",
        "model.summary()\n"
      ]
    },
    {
      "cell_type": "code",
      "execution_count": null,
      "metadata": {
        "id": "Gxymaqt1fZBD"
      },
      "outputs": [],
      "source": [
        "from tensorflow.keras.layers import MaxPooling2D"
      ]
    },
    {
      "cell_type": "code",
      "execution_count": null,
      "metadata": {
        "colab": {
          "base_uri": "https://localhost:8080/"
        },
        "id": "x30tTMA3fZBD",
        "outputId": "053c26b9-12ab-44f7-8227-648bf29c90eb"
      },
      "outputs": [
        {
          "output_type": "stream",
          "name": "stdout",
          "text": [
            "Model: \"sequential\"\n",
            "_________________________________________________________________\n",
            " Layer (type)                Output Shape              Param #   \n",
            "=================================================================\n",
            " conv2d (Conv2D)             (None, 224, 224, 16)      208       \n",
            "                                                                 \n",
            " max_pooling2d (MaxPooling2D  (None, 112, 112, 16)     0         \n",
            " )                                                               \n",
            "                                                                 \n",
            " conv2d_1 (Conv2D)           (None, 112, 112, 32)      2080      \n",
            "                                                                 \n",
            " max_pooling2d_1 (MaxPooling  (None, 56, 56, 32)       0         \n",
            " 2D)                                                             \n",
            "                                                                 \n",
            " conv2d_2 (Conv2D)           (None, 56, 56, 64)        8256      \n",
            "                                                                 \n",
            " max_pooling2d_2 (MaxPooling  (None, 28, 28, 64)       0         \n",
            " 2D)                                                             \n",
            "                                                                 \n",
            " flatten_1 (Flatten)         (None, 50176)             0         \n",
            "                                                                 \n",
            " dense_1 (Dense)             (None, 500)               25088500  \n",
            "                                                                 \n",
            " dense_2 (Dense)             (None, 2)                 1002      \n",
            "                                                                 \n",
            "=================================================================\n",
            "Total params: 25,100,046\n",
            "Trainable params: 25,100,046\n",
            "Non-trainable params: 0\n",
            "_________________________________________________________________\n"
          ]
        }
      ],
      "source": [
        "### Create Model from scratch using CNN\n",
        "model=Sequential()\n",
        "model.add(Conv2D(filters=16,kernel_size=2,padding=\"same\",activation=\"relu\",input_shape=(224,224,3)))\n",
        "model.add(MaxPooling2D(pool_size=2))\n",
        "model.add(Conv2D(filters=32,kernel_size=2,padding=\"same\",activation =\"relu\"))\n",
        "model.add(MaxPooling2D(pool_size=2))\n",
        "model.add(Conv2D(filters=64,kernel_size=2,padding=\"same\",activation=\"relu\"))\n",
        "model.add(MaxPooling2D(pool_size=2))\n",
        "model.add(Flatten())\n",
        "model.add(Dense(500,activation=\"relu\"))\n",
        "model.add(Dense(2,activation=\"softmax\"))\n",
        "model.summary()"
      ]
    },
    {
      "cell_type": "code",
      "execution_count": null,
      "metadata": {
        "id": "v6C8G3NafZBD"
      },
      "outputs": [],
      "source": [
        "# tell the model what cost and optimization method to use\n",
        "model.compile(\n",
        "  loss='categorical_crossentropy',\n",
        "  optimizer='adam',\n",
        "  metrics=['accuracy']\n",
        ")\n"
      ]
    },
    {
      "cell_type": "code",
      "execution_count": null,
      "metadata": {
        "id": "5SX-nXSFfZBE"
      },
      "outputs": [],
      "source": [
        "# Use the Image Data Generator to import the images from the dataset\n",
        "from tensorflow.keras.preprocessing.image import ImageDataGenerator\n",
        "\n",
        "train_datagen = ImageDataGenerator(rescale = 1./255,\n",
        "                                   shear_range = 0.2,\n",
        "                                   zoom_range = 0.2,\n",
        "                                   horizontal_flip = True)\n",
        "\n",
        "test_datagen = ImageDataGenerator(rescale = 1./255)"
      ]
    },
    {
      "cell_type": "code",
      "execution_count": null,
      "metadata": {
        "colab": {
          "base_uri": "https://localhost:8080/"
        },
        "id": "JR9tzo8NfZBE",
        "outputId": "f7aa53ed-3a4a-4e4b-bfa1-dfcb9cbf08e3"
      },
      "outputs": [
        {
          "output_type": "stream",
          "name": "stdout",
          "text": [
            "Found 416 images belonging to 2 classes.\n"
          ]
        }
      ],
      "source": [
        "# Make sure you provide the same target size as initialied for the image size\n",
        "training_set = train_datagen.flow_from_directory('/content/Dataset/Train',\n",
        "                                                 target_size = (224, 224),\n",
        "                                                 batch_size = 32,\n",
        "                                                 class_mode = 'categorical')"
      ]
    },
    {
      "cell_type": "code",
      "execution_count": null,
      "metadata": {
        "colab": {
          "base_uri": "https://localhost:8080/"
        },
        "id": "P5G77KS7fZBF",
        "outputId": "9dd66593-b2a4-4cd8-f1c4-d522f849c574"
      },
      "outputs": [
        {
          "output_type": "execute_result",
          "data": {
            "text/plain": [
              "<keras.preprocessing.image.DirectoryIterator at 0x7f790c9cc490>"
            ]
          },
          "metadata": {},
          "execution_count": 16
        }
      ],
      "source": [
        "training_set"
      ]
    },
    {
      "cell_type": "code",
      "execution_count": null,
      "metadata": {
        "colab": {
          "base_uri": "https://localhost:8080/"
        },
        "id": "4fufKiEtfZBF",
        "outputId": "73bf155f-5fad-4ef1-c4bb-938f0d04a6ec"
      },
      "outputs": [
        {
          "output_type": "stream",
          "name": "stdout",
          "text": [
            "Found 134 images belonging to 2 classes.\n"
          ]
        }
      ],
      "source": [
        "test_set = test_datagen.flow_from_directory('/content/Dataset/Test',\n",
        "                                            target_size = (224, 224),\n",
        "                                            batch_size = 32,\n",
        "                                            class_mode = 'categorical')"
      ]
    },
    {
      "cell_type": "code",
      "execution_count": null,
      "metadata": {
        "scrolled": true,
        "colab": {
          "base_uri": "https://localhost:8080/"
        },
        "id": "hX1xDh3OfZBF",
        "outputId": "d712cb60-72a3-49f6-fdc1-93deb7243eaf"
      },
      "outputs": [
        {
          "metadata": {
            "tags": null
          },
          "name": "stderr",
          "output_type": "stream",
          "text": [
            "/usr/local/lib/python3.7/dist-packages/ipykernel_launcher.py:8: UserWarning: `Model.fit_generator` is deprecated and will be removed in a future version. Please use `Model.fit`, which supports generators.\n",
            "  \n"
          ]
        },
        {
          "output_type": "stream",
          "name": "stdout",
          "text": [
            "Epoch 1/50\n",
            "13/13 [==============================] - 24s 2s/step - loss: 1.5801 - accuracy: 0.5168 - val_loss: 0.7589 - val_accuracy: 0.3284\n",
            "Epoch 2/50\n",
            "13/13 [==============================] - 28s 2s/step - loss: 0.6998 - accuracy: 0.5288 - val_loss: 0.6424 - val_accuracy: 0.6791\n",
            "Epoch 3/50\n",
            "13/13 [==============================] - 22s 2s/step - loss: 0.6735 - accuracy: 0.5553 - val_loss: 0.6804 - val_accuracy: 0.5597\n",
            "Epoch 4/50\n",
            "13/13 [==============================] - 22s 2s/step - loss: 0.6242 - accuracy: 0.6466 - val_loss: 0.7913 - val_accuracy: 0.3657\n",
            "Epoch 5/50\n",
            "13/13 [==============================] - 25s 2s/step - loss: 0.5935 - accuracy: 0.6442 - val_loss: 0.7705 - val_accuracy: 0.4254\n",
            "Epoch 6/50\n",
            "13/13 [==============================] - 22s 2s/step - loss: 0.4902 - accuracy: 0.7812 - val_loss: 0.9993 - val_accuracy: 0.3806\n",
            "Epoch 7/50\n",
            "13/13 [==============================] - 22s 2s/step - loss: 0.4772 - accuracy: 0.7716 - val_loss: 0.9162 - val_accuracy: 0.4030\n",
            "Epoch 8/50\n",
            "13/13 [==============================] - 22s 2s/step - loss: 0.4230 - accuracy: 0.8245 - val_loss: 0.9706 - val_accuracy: 0.4552\n",
            "Epoch 9/50\n",
            "13/13 [==============================] - 22s 2s/step - loss: 0.3677 - accuracy: 0.8269 - val_loss: 0.7704 - val_accuracy: 0.5299\n",
            "Epoch 10/50\n",
            "13/13 [==============================] - 22s 2s/step - loss: 0.3900 - accuracy: 0.8173 - val_loss: 1.1751 - val_accuracy: 0.4179\n",
            "Epoch 11/50\n",
            "13/13 [==============================] - 22s 2s/step - loss: 0.3522 - accuracy: 0.8822 - val_loss: 0.6791 - val_accuracy: 0.6045\n",
            "Epoch 12/50\n",
            "13/13 [==============================] - 24s 2s/step - loss: 0.2919 - accuracy: 0.8702 - val_loss: 0.7800 - val_accuracy: 0.5896\n",
            "Epoch 13/50\n",
            "13/13 [==============================] - 23s 2s/step - loss: 0.2761 - accuracy: 0.8798 - val_loss: 0.5993 - val_accuracy: 0.7015\n",
            "Epoch 14/50\n",
            "13/13 [==============================] - 22s 2s/step - loss: 0.2587 - accuracy: 0.9159 - val_loss: 0.4891 - val_accuracy: 0.7537\n",
            "Epoch 15/50\n",
            "13/13 [==============================] - 22s 2s/step - loss: 0.2549 - accuracy: 0.9135 - val_loss: 0.4152 - val_accuracy: 0.7985\n",
            "Epoch 16/50\n",
            "13/13 [==============================] - 25s 2s/step - loss: 0.1740 - accuracy: 0.9471 - val_loss: 0.3951 - val_accuracy: 0.7910\n",
            "Epoch 17/50\n",
            "13/13 [==============================] - 25s 2s/step - loss: 0.1421 - accuracy: 0.9519 - val_loss: 0.5664 - val_accuracy: 0.7388\n",
            "Epoch 18/50\n",
            "13/13 [==============================] - 23s 2s/step - loss: 0.1426 - accuracy: 0.9495 - val_loss: 0.4764 - val_accuracy: 0.7910\n",
            "Epoch 19/50\n",
            "13/13 [==============================] - 22s 2s/step - loss: 0.1134 - accuracy: 0.9615 - val_loss: 0.3320 - val_accuracy: 0.8209\n",
            "Epoch 20/50\n",
            "13/13 [==============================] - 22s 2s/step - loss: 0.1147 - accuracy: 0.9615 - val_loss: 0.3023 - val_accuracy: 0.8657\n",
            "Epoch 21/50\n",
            "13/13 [==============================] - 22s 2s/step - loss: 0.1352 - accuracy: 0.9543 - val_loss: 0.7093 - val_accuracy: 0.7164\n",
            "Epoch 22/50\n",
            "13/13 [==============================] - 22s 2s/step - loss: 0.1967 - accuracy: 0.9255 - val_loss: 0.5106 - val_accuracy: 0.7612\n",
            "Epoch 23/50\n",
            "13/13 [==============================] - 22s 2s/step - loss: 0.1322 - accuracy: 0.9591 - val_loss: 0.3530 - val_accuracy: 0.8284\n",
            "Epoch 24/50\n",
            "13/13 [==============================] - 22s 2s/step - loss: 0.1040 - accuracy: 0.9688 - val_loss: 0.8642 - val_accuracy: 0.7463\n",
            "Epoch 25/50\n",
            "13/13 [==============================] - 22s 2s/step - loss: 0.1426 - accuracy: 0.9567 - val_loss: 0.3977 - val_accuracy: 0.8284\n",
            "Epoch 26/50\n",
            "13/13 [==============================] - 22s 2s/step - loss: 0.1117 - accuracy: 0.9615 - val_loss: 0.6058 - val_accuracy: 0.7985\n",
            "Epoch 27/50\n",
            "13/13 [==============================] - 22s 2s/step - loss: 0.1188 - accuracy: 0.9591 - val_loss: 0.3071 - val_accuracy: 0.8582\n",
            "Epoch 28/50\n",
            "13/13 [==============================] - 22s 2s/step - loss: 0.0834 - accuracy: 0.9808 - val_loss: 0.4463 - val_accuracy: 0.8209\n",
            "Epoch 29/50\n",
            "13/13 [==============================] - 22s 2s/step - loss: 0.0729 - accuracy: 0.9688 - val_loss: 0.2597 - val_accuracy: 0.8955\n",
            "Epoch 30/50\n",
            "13/13 [==============================] - 23s 2s/step - loss: 0.0860 - accuracy: 0.9760 - val_loss: 0.3087 - val_accuracy: 0.8731\n",
            "Epoch 31/50\n",
            "13/13 [==============================] - 22s 2s/step - loss: 0.0916 - accuracy: 0.9832 - val_loss: 0.2634 - val_accuracy: 0.8881\n",
            "Epoch 32/50\n",
            "13/13 [==============================] - 22s 2s/step - loss: 0.0694 - accuracy: 0.9808 - val_loss: 0.3532 - val_accuracy: 0.8582\n",
            "Epoch 33/50\n",
            "13/13 [==============================] - 22s 2s/step - loss: 0.0785 - accuracy: 0.9760 - val_loss: 0.2311 - val_accuracy: 0.9179\n",
            "Epoch 34/50\n",
            "13/13 [==============================] - 22s 2s/step - loss: 0.0749 - accuracy: 0.9784 - val_loss: 0.1960 - val_accuracy: 0.9328\n",
            "Epoch 35/50\n",
            "13/13 [==============================] - 22s 2s/step - loss: 0.0960 - accuracy: 0.9808 - val_loss: 0.5219 - val_accuracy: 0.8358\n",
            "Epoch 36/50\n",
            "13/13 [==============================] - 24s 2s/step - loss: 0.0635 - accuracy: 0.9880 - val_loss: 0.2186 - val_accuracy: 0.9104\n",
            "Epoch 37/50\n",
            "13/13 [==============================] - 22s 2s/step - loss: 0.0693 - accuracy: 0.9832 - val_loss: 0.2238 - val_accuracy: 0.9179\n",
            "Epoch 38/50\n",
            "13/13 [==============================] - 22s 2s/step - loss: 0.0486 - accuracy: 0.9856 - val_loss: 0.1869 - val_accuracy: 0.9328\n",
            "Epoch 39/50\n",
            "13/13 [==============================] - 22s 2s/step - loss: 0.0605 - accuracy: 0.9904 - val_loss: 0.2841 - val_accuracy: 0.8955\n",
            "Epoch 40/50\n",
            "13/13 [==============================] - 22s 2s/step - loss: 0.0613 - accuracy: 0.9808 - val_loss: 0.1827 - val_accuracy: 0.9328\n",
            "Epoch 41/50\n",
            "13/13 [==============================] - 22s 2s/step - loss: 0.0404 - accuracy: 0.9952 - val_loss: 0.2415 - val_accuracy: 0.9179\n",
            "Epoch 42/50\n",
            "13/13 [==============================] - 22s 2s/step - loss: 0.0539 - accuracy: 0.9928 - val_loss: 0.2448 - val_accuracy: 0.9179\n",
            "Epoch 43/50\n",
            "13/13 [==============================] - 22s 2s/step - loss: 0.0565 - accuracy: 0.9808 - val_loss: 0.2634 - val_accuracy: 0.8955\n",
            "Epoch 44/50\n",
            "13/13 [==============================] - 22s 2s/step - loss: 0.0480 - accuracy: 0.9856 - val_loss: 0.1767 - val_accuracy: 0.9403\n",
            "Epoch 45/50\n",
            "13/13 [==============================] - 22s 2s/step - loss: 0.0499 - accuracy: 0.9880 - val_loss: 0.4530 - val_accuracy: 0.8582\n",
            "Epoch 46/50\n",
            "13/13 [==============================] - 22s 2s/step - loss: 0.0499 - accuracy: 0.9856 - val_loss: 0.2342 - val_accuracy: 0.9179\n",
            "Epoch 47/50\n",
            "13/13 [==============================] - 22s 2s/step - loss: 0.0206 - accuracy: 0.9952 - val_loss: 0.4359 - val_accuracy: 0.9104\n",
            "Epoch 48/50\n",
            "13/13 [==============================] - 22s 2s/step - loss: 0.0429 - accuracy: 0.9904 - val_loss: 0.5408 - val_accuracy: 0.8507\n",
            "Epoch 49/50\n",
            "13/13 [==============================] - 22s 2s/step - loss: 0.0746 - accuracy: 0.9760 - val_loss: 0.2816 - val_accuracy: 0.8955\n",
            "Epoch 50/50\n",
            "13/13 [==============================] - 22s 2s/step - loss: 0.0433 - accuracy: 0.9904 - val_loss: 0.2561 - val_accuracy: 0.9104\n"
          ]
        }
      ],
      "source": [
        "# fit the model\n",
        "# Run the cell. It will take some time to execute\n",
        "r = model.fit_generator(\n",
        "  training_set,\n",
        "  validation_data=test_set,\n",
        "  epochs=50,\n",
        "  steps_per_epoch=len(training_set),\n",
        "  validation_steps=len(test_set)\n",
        ")"
      ]
    },
    {
      "cell_type": "code",
      "execution_count": null,
      "metadata": {
        "id": "LhYw7_j3fZBG"
      },
      "outputs": [],
      "source": []
    },
    {
      "cell_type": "code",
      "execution_count": null,
      "metadata": {
        "colab": {
          "base_uri": "https://localhost:8080/",
          "height": 531
        },
        "id": "rw-eMoB4fZBG",
        "outputId": "0052fb1f-c6e2-4c6e-b546-52e90f3cc958"
      },
      "outputs": [
        {
          "output_type": "display_data",
          "data": {
            "text/plain": [
              "<Figure size 432x288 with 1 Axes>"
            ],
            "image/png": "[encoded data removed]"
          },
          "metadata": {
            "needs_background": "light"
          }
        },
        {
          "output_type": "display_data",
          "data": {
            "text/plain": [
              "<Figure size 432x288 with 1 Axes>"
            ],
            "image/png": "[encoded data removed]"
          },
          "metadata": {
            "needs_background": "light"
          }
        },
        {
          "output_type": "display_data",
          "data": {
            "text/plain": [
              "<Figure size 432x288 with 0 Axes>"
            ]
          },
          "metadata": {}
        }
      ],
      "source": [
        "# plot the loss\n",
        "plt.plot(r.history['loss'], label='train loss')\n",
        "plt.plot(r.history['val_loss'], label='val loss')\n",
        "plt.legend()\n",
        "plt.show()\n",
        "plt.savefig('LossVal_loss')\n",
        "\n",
        "# plot the accuracy\n",
        "plt.plot(r.history['accuracy'], label='train acc')\n",
        "plt.plot(r.history['val_accuracy'], label='val acc')\n",
        "plt.legend()\n",
        "plt.show()\n",
        "plt.savefig('AccVal_acc')"
      ]
    },
    {
      "cell_type": "code",
      "execution_count": null,
      "metadata": {
        "id": "cDcUvBqTfZBG"
      },
      "outputs": [],
      "source": [
        "# save it as a h5 file\n",
        "\n",
        "\n",
        "from tensorflow.keras.models import load_model\n",
        "\n",
        "model.save('model_vgg19.h5')"
      ]
    },
    {
      "cell_type": "code",
      "execution_count": null,
      "metadata": {
        "id": "WIkjn4w0fZBG"
      },
      "outputs": [],
      "source": []
    },
    {
      "cell_type": "code",
      "execution_count": null,
      "metadata": {
        "colab": {
          "base_uri": "https://localhost:8080/"
        },
        "id": "2VsZ57gqfZBG",
        "outputId": "2aaaf074-88c9-435e-b035-44b76f154ac7"
      },
      "outputs": [
        {
          "output_type": "stream",
          "name": "stdout",
          "text": [
            "5/5 [==============================] - 2s 324ms/step\n"
          ]
        }
      ],
      "source": [
        "\n",
        "y_pred = model.predict(test_set)\n"
      ]
    },
    {
      "cell_type": "code",
      "execution_count": null,
      "metadata": {
        "colab": {
          "base_uri": "https://localhost:8080/"
        },
        "id": "E8bdS10ZfZBH",
        "outputId": "295134ed-d3a8-447e-a9f2-0eb62a30e983"
      },
      "outputs": [
        {
          "output_type": "execute_result",
          "data": {
            "text/plain": [
              "array([[9.99998271e-01, 1.62836818e-06],\n",
              "       [3.62110697e-02, 9.63788986e-01],\n",
              "       [9.99998271e-01, 1.65526103e-06],\n",
              "       [9.99870539e-01, 1.29597480e-04],\n",
              "       [1.30125973e-02, 9.86987233e-01],\n",
              "       [9.99991000e-01, 8.97239170e-06],\n",
              "       [9.37825907e-03, 9.90621865e-01],\n",
              "       [1.39211714e-02, 9.86078739e-01],\n",
              "       [9.99992669e-01, 7.30290867e-06],\n",
              "       [9.99999344e-01, 5.93408970e-07],\n",
              "       [9.99999940e-01, 7.81994414e-10],\n",
              "       [9.99998987e-01, 9.68716449e-07],\n",
              "       [9.99995053e-01, 4.84077873e-06],\n",
              "       [9.80143666e-01, 1.98563002e-02],\n",
              "       [1.63759347e-02, 9.83623981e-01],\n",
              "       [9.99998271e-01, 1.70128760e-06],\n",
              "       [9.74136055e-01, 2.58639343e-02],\n",
              "       [9.99989212e-01, 1.06915932e-05],\n",
              "       [9.99263287e-01, 7.36752525e-04],\n",
              "       [6.51199929e-03, 9.93488014e-01],\n",
              "       [6.02548756e-02, 9.39745009e-01],\n",
              "       [9.99999344e-01, 5.85719135e-07],\n",
              "       [9.99973714e-01, 2.62651774e-05],\n",
              "       [9.99998629e-01, 1.31700654e-06],\n",
              "       [9.99999940e-01, 3.54919002e-12],\n",
              "       [9.99999344e-01, 6.29578039e-07],\n",
              "       [9.99904692e-01, 9.52968039e-05],\n",
              "       [1.66440815e-01, 8.33559155e-01],\n",
              "       [9.99844790e-01, 1.55343252e-04],\n",
              "       [9.99999821e-01, 9.36856139e-08],\n",
              "       [7.92471528e-01, 2.07528457e-01],\n",
              "       [8.00561607e-01, 1.99438334e-01],\n",
              "       [1.81967765e-02, 9.81803119e-01],\n",
              "       [9.99999821e-01, 9.80082433e-08],\n",
              "       [7.20400959e-02, 9.27959859e-01],\n",
              "       [9.99568284e-01, 4.31727996e-04],\n",
              "       [3.45839530e-01, 6.54160559e-01],\n",
              "       [6.19628699e-03, 9.93803740e-01],\n",
              "       [9.99960124e-01, 3.97980475e-05],\n",
              "       [9.98096704e-01, 1.90323195e-03],\n",
              "       [4.47023362e-02, 9.55297649e-01],\n",
              "       [4.77410674e-01, 5.22589326e-01],\n",
              "       [5.18666320e-02, 9.48133290e-01],\n",
              "       [9.99901474e-01, 9.84208746e-05],\n",
              "       [9.99999225e-01, 7.03540934e-07],\n",
              "       [3.04162443e-01, 6.95837617e-01],\n",
              "       [3.67485285e-02, 9.63251412e-01],\n",
              "       [9.48859215e-01, 5.11408076e-02],\n",
              "       [6.26812130e-02, 9.37318861e-01],\n",
              "       [5.32796979e-02, 9.46720302e-01],\n",
              "       [4.43256870e-02, 9.55674291e-01],\n",
              "       [7.57087409e-01, 2.42912591e-01],\n",
              "       [9.99999940e-01, 5.20096577e-10],\n",
              "       [9.99999583e-01, 3.23950530e-07],\n",
              "       [9.99423385e-01, 5.76535822e-04],\n",
              "       [9.99968588e-01, 3.13646196e-05],\n",
              "       [5.44153929e-01, 4.55846161e-01],\n",
              "       [9.99999940e-01, 3.16254112e-09],\n",
              "       [9.99999940e-01, 1.17266681e-19],\n",
              "       [9.99999702e-01, 2.35731861e-07],\n",
              "       [9.99999940e-01, 2.83897581e-08],\n",
              "       [9.99999940e-01, 6.20543590e-12],\n",
              "       [6.73480937e-03, 9.93265152e-01],\n",
              "       [2.74802521e-02, 9.72519636e-01],\n",
              "       [9.99262810e-01, 7.37207942e-04],\n",
              "       [2.01058879e-01, 7.98941135e-01],\n",
              "       [9.99787569e-01, 2.12475716e-04],\n",
              "       [1.24901347e-01, 8.75098705e-01],\n",
              "       [1.04553187e-02, 9.89544749e-01],\n",
              "       [3.20013985e-02, 9.67998624e-01],\n",
              "       [2.35932618e-02, 9.76406693e-01],\n",
              "       [9.99931991e-01, 6.79098521e-05],\n",
              "       [9.99999940e-01, 1.94808522e-23],\n",
              "       [9.99946654e-01, 5.32591221e-05],\n",
              "       [9.99999940e-01, 6.21005608e-11],\n",
              "       [9.99995768e-01, 4.16610419e-06],\n",
              "       [9.99913514e-01, 8.63703972e-05],\n",
              "       [9.99999940e-01, 7.89972674e-14],\n",
              "       [1.21975817e-01, 8.78024220e-01],\n",
              "       [9.99999940e-01, 1.03546825e-17],\n",
              "       [9.99999940e-01, 2.38804585e-08],\n",
              "       [8.86179283e-02, 9.11381960e-01],\n",
              "       [9.99999821e-01, 1.13668996e-07],\n",
              "       [9.99999106e-01, 7.99716815e-07],\n",
              "       [8.42392724e-03, 9.91576076e-01],\n",
              "       [9.50772315e-03, 9.90492284e-01],\n",
              "       [9.99918997e-01, 8.09295816e-05],\n",
              "       [9.99999940e-01, 9.40508990e-11],\n",
              "       [9.99999940e-01, 5.11994678e-08],\n",
              "       [1.75084826e-02, 9.82491493e-01],\n",
              "       [2.33217515e-02, 9.76678193e-01],\n",
              "       [3.86865959e-02, 9.61313307e-01],\n",
              "       [9.99999940e-01, 3.96728786e-14],\n",
              "       [1.41346548e-02, 9.85865355e-01],\n",
              "       [1.83512550e-02, 9.81648803e-01],\n",
              "       [8.62859841e-03, 9.91371334e-01],\n",
              "       [9.98475373e-01, 1.52458891e-03],\n",
              "       [3.42361964e-02, 9.65763807e-01],\n",
              "       [9.99996841e-01, 3.05622189e-06],\n",
              "       [9.99640107e-01, 3.59853089e-04],\n",
              "       [6.39392659e-02, 9.36060786e-01],\n",
              "       [3.21147814e-02, 9.67885196e-01],\n",
              "       [1.47438599e-02, 9.85256195e-01],\n",
              "       [5.74982464e-02, 9.42501664e-01],\n",
              "       [2.68072844e-01, 7.31927097e-01],\n",
              "       [9.99540508e-01, 4.59435076e-04],\n",
              "       [2.50163618e-02, 9.74983633e-01],\n",
              "       [3.72615419e-02, 9.62738514e-01],\n",
              "       [9.97306705e-01, 2.69327359e-03],\n",
              "       [1.09203883e-01, 8.90796065e-01],\n",
              "       [1.79980844e-02, 9.82001901e-01],\n",
              "       [9.99999940e-01, 4.52364838e-12],\n",
              "       [9.99999940e-01, 1.23933201e-08],\n",
              "       [7.56283477e-02, 9.24371719e-01],\n",
              "       [9.99955237e-01, 4.46929625e-05],\n",
              "       [9.99929249e-01, 7.06302380e-05],\n",
              "       [9.99980986e-01, 1.89948514e-05],\n",
              "       [1.88315175e-02, 9.81168449e-01],\n",
              "       [1.89001504e-02, 9.81099904e-01],\n",
              "       [6.63365275e-02, 9.33663487e-01],\n",
              "       [1.31859444e-03, 9.98681426e-01],\n",
              "       [9.99890149e-01, 1.09834036e-04],\n",
              "       [9.99895990e-01, 1.03936931e-04],\n",
              "       [9.99989331e-01, 1.05886111e-05],\n",
              "       [8.81820142e-01, 1.18179798e-01],\n",
              "       [9.99999702e-01, 2.90764291e-07],\n",
              "       [9.99772310e-01, 2.27657685e-04],\n",
              "       [5.95594883e-01, 4.04405117e-01],\n",
              "       [1.00000000e+00, 1.84763482e-16],\n",
              "       [9.99999881e-01, 1.18766771e-07],\n",
              "       [3.14940214e-01, 6.85059786e-01],\n",
              "       [2.29713228e-02, 9.77028668e-01],\n",
              "       [6.48995163e-03, 9.93510067e-01],\n",
              "       [9.99995589e-01, 4.39641872e-06]], dtype=float32)"
            ]
          },
          "metadata": {},
          "execution_count": 22
        }
      ],
      "source": [
        "y_pred"
      ]
    },
    {
      "cell_type": "code",
      "execution_count": null,
      "metadata": {
        "id": "sVh6lKeefZBH"
      },
      "outputs": [],
      "source": [
        "import numpy as np\n",
        "y_pred = np.argmax(y_pred, axis=1)"
      ]
    },
    {
      "cell_type": "code",
      "execution_count": null,
      "metadata": {
        "id": "XNk6hxdPfZBH",
        "outputId": "044e4c11-bf45-42ac-b3f9-b8d2c189ad84"
      },
      "outputs": [
        {
          "data": {
            "text/plain": [
              "array([0, 0, 0, 0, 0, 1, 1, 1, 0, 0, 0, 0, 0, 0, 1, 0, 1, 0, 0, 0, 0, 0,\n",
              "       1, 0, 0, 0, 1, 0, 0, 0, 0, 1, 0, 1, 1, 0, 0, 0, 0, 1, 1, 0, 0, 0,\n",
              "       0, 0, 0, 0, 0, 1, 1, 1, 1, 0, 1, 0, 0, 0, 0, 0, 1, 0, 0, 1, 0, 1,\n",
              "       1, 0, 0, 0, 0, 1, 1, 0, 0, 0, 0, 1, 1, 0, 0, 0, 1, 0, 0, 0, 0, 0,\n",
              "       1, 0, 0, 1, 0, 1, 1, 1, 0, 0, 1, 0, 0, 0, 0, 1, 1, 0, 0, 0, 1, 0,\n",
              "       0, 0, 0, 1, 0, 0, 0, 0, 0, 0, 0, 0, 1, 1, 0, 0, 1, 1, 0, 1, 0, 0,\n",
              "       1, 1], dtype=int64)"
            ]
          },
          "execution_count": 21,
          "metadata": {},
          "output_type": "execute_result"
        }
      ],
      "source": [
        "y_pred"
      ]
    },
    {
      "cell_type": "code",
      "execution_count": null,
      "metadata": {
        "id": "LMsO72T6fZBH"
      },
      "outputs": [],
      "source": []
    },
    {
      "cell_type": "code",
      "execution_count": null,
      "metadata": {
        "id": "j0WYr5zBfZBH"
      },
      "outputs": [],
      "source": [
        "from tensorflow.keras.models import load_model\n",
        "from tensorflow.keras.preprocessing import image"
      ]
    },
    {
      "cell_type": "code",
      "execution_count": null,
      "metadata": {
        "id": "5lXgHlbLfZBI"
      },
      "outputs": [],
      "source": [
        "model=load_model('model_vgg19.h5')"
      ]
    },
    {
      "cell_type": "code",
      "execution_count": null,
      "metadata": {
        "id": "AG7rAwVyfZBI"
      },
      "outputs": [],
      "source": []
    },
    {
      "cell_type": "code",
      "execution_count": null,
      "metadata": {
        "id": "gKGB9AaAfZBI"
      },
      "outputs": [],
      "source": [
        "img=image.load_img('Dataset/Test/Uninfected/2.png',target_size=(224,224))\n",
        "\n"
      ]
    },
    {
      "cell_type": "code",
      "execution_count": null,
      "metadata": {
        "id": "ytaEnfkTfZBI",
        "outputId": "2bd97803-960f-431b-c5f8-ad97f3b3edc1"
      },
      "outputs": [
        {
          "data": {
            "text/plain": [
              "array([[[0., 0., 0.],\n",
              "        [0., 0., 0.],\n",
              "        [0., 0., 0.],\n",
              "        ...,\n",
              "        [0., 0., 0.],\n",
              "        [0., 0., 0.],\n",
              "        [0., 0., 0.]],\n",
              "\n",
              "       [[0., 0., 0.],\n",
              "        [0., 0., 0.],\n",
              "        [0., 0., 0.],\n",
              "        ...,\n",
              "        [0., 0., 0.],\n",
              "        [0., 0., 0.],\n",
              "        [0., 0., 0.]],\n",
              "\n",
              "       [[0., 0., 0.],\n",
              "        [0., 0., 0.],\n",
              "        [0., 0., 0.],\n",
              "        ...,\n",
              "        [0., 0., 0.],\n",
              "        [0., 0., 0.],\n",
              "        [0., 0., 0.]],\n",
              "\n",
              "       ...,\n",
              "\n",
              "       [[0., 0., 0.],\n",
              "        [0., 0., 0.],\n",
              "        [0., 0., 0.],\n",
              "        ...,\n",
              "        [0., 0., 0.],\n",
              "        [0., 0., 0.],\n",
              "        [0., 0., 0.]],\n",
              "\n",
              "       [[0., 0., 0.],\n",
              "        [0., 0., 0.],\n",
              "        [0., 0., 0.],\n",
              "        ...,\n",
              "        [0., 0., 0.],\n",
              "        [0., 0., 0.],\n",
              "        [0., 0., 0.]],\n",
              "\n",
              "       [[0., 0., 0.],\n",
              "        [0., 0., 0.],\n",
              "        [0., 0., 0.],\n",
              "        ...,\n",
              "        [0., 0., 0.],\n",
              "        [0., 0., 0.],\n",
              "        [0., 0., 0.]]], dtype=float32)"
            ]
          },
          "execution_count": 27,
          "metadata": {},
          "output_type": "execute_result"
        }
      ],
      "source": [
        "x=image.img_to_array(img)\n",
        "x"
      ]
    },
    {
      "cell_type": "code",
      "execution_count": null,
      "metadata": {
        "id": "k8J71cOrfZBI",
        "outputId": "3cf45c97-5b9e-4b4d-cdf3-a3e59dee5535"
      },
      "outputs": [
        {
          "data": {
            "text/plain": [
              "(224, 224, 3)"
            ]
          },
          "execution_count": 28,
          "metadata": {},
          "output_type": "execute_result"
        }
      ],
      "source": [
        "x.shape"
      ]
    },
    {
      "cell_type": "code",
      "execution_count": null,
      "metadata": {
        "id": "XFzOoZdVfZBJ"
      },
      "outputs": [],
      "source": [
        "x=x/255"
      ]
    },
    {
      "cell_type": "code",
      "execution_count": null,
      "metadata": {
        "id": "y1wRz18NfZBJ",
        "outputId": "02297165-ac69-4609-b4f7-1213005ef0e1"
      },
      "outputs": [
        {
          "data": {
            "text/plain": [
              "(1, 224, 224, 3)"
            ]
          },
          "execution_count": 30,
          "metadata": {},
          "output_type": "execute_result"
        }
      ],
      "source": [
        "x=np.expand_dims(x,axis=0)\n",
        "img_data=preprocess_input(x)\n",
        "img_data.shape"
      ]
    },
    {
      "cell_type": "code",
      "execution_count": null,
      "metadata": {
        "id": "6kBsL4KRfZBJ",
        "outputId": "b16ada5a-a554-4398-ed7e-a7d9f4d1752d"
      },
      "outputs": [
        {
          "data": {
            "text/plain": [
              "array([[0.01155142, 0.98844856]], dtype=float32)"
            ]
          },
          "execution_count": 31,
          "metadata": {},
          "output_type": "execute_result"
        }
      ],
      "source": [
        "model.predict(img_data)"
      ]
    },
    {
      "cell_type": "code",
      "execution_count": null,
      "metadata": {
        "id": "TZuOY7ezfZBJ"
      },
      "outputs": [],
      "source": [
        "a=np.argmax(model.predict(img_data), axis=1)"
      ]
    },
    {
      "cell_type": "code",
      "execution_count": null,
      "metadata": {
        "id": "9uxy1XRvfZBJ",
        "outputId": "27a1c9e5-c65f-4e21-f652-7a1b08196337"
      },
      "outputs": [
        {
          "name": "stdout",
          "output_type": "stream",
          "text": [
            "Uninfected\n"
          ]
        }
      ],
      "source": [
        "if(a==1):\n",
        "    print(\"Uninfected\")\n",
        "else:\n",
        "    print(\"Infected\")"
      ]
    },
    {
      "cell_type": "code",
      "execution_count": null,
      "metadata": {
        "id": "uQg7ZYcsfZBK"
      },
      "outputs": [],
      "source": []
    },
    {
      "cell_type": "code",
      "execution_count": null,
      "metadata": {
        "id": "CzX82pUvfZBK"
      },
      "outputs": [],
      "source": []
    }
  ],
  "metadata": {
    "kernelspec": {
      "display_name": "Python 3",
      "language": "python",
      "name": "python3"
    },
    "language_info": {
      "codemirror_mode": {
        "name": "ipython",
        "version": 3
      },
      "file_extension": ".py",
      "mimetype": "text/x-python",
      "name": "python",
      "nbconvert_exporter": "python",
      "pygments_lexer": "ipython3",
      "version": "3.7.4"
    },
    "colab": {
      "provenance": []
    }
  },
  "nbformat": 4,
  "nbformat_minor": 0
}